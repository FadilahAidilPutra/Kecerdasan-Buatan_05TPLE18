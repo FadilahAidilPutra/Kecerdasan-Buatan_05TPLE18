{
 "cells": [
  {
   "cell_type": "markdown",
   "metadata": {},
   "source": [
    "SOAL UTS"
   ]
  },
  {
   "cell_type": "code",
   "execution_count": 8,
   "metadata": {},
   "outputs": [],
   "source": [
    "company_detail_list = [\n",
    "      {\n",
    "          'name': 'Company 1',\n",
    "          'domain': 'Retail',\n",
    "          'country': 'United States'\n",
    "      },\n",
    "      {\n",
    "          'name': 'Company 2',\n",
    "          'domain': 'Technology',\n",
    "          'country': 'United Kingdom'\n",
    "      },\n",
    "      {\n",
    "          'name': 'Company 3',\n",
    "          'domain': 'Healthcare',\n",
    "          'country': 'United States'\n",
    "      }\n",
    "  ]\n",
    "\n",
    "employee_detail_list = [\n",
    "     {\n",
    "          'name': 'EMP-0001',\n",
    "          'first_name': 'John',\n",
    "          'last_name': 'Doe',\n",
    "          'full_name': 'John Doe',\n",
    "          'company': 'Company 1',\n",
    "          'nationality': 'Australia'\n",
    "      },\n",
    "      {\n",
    "          'name': 'EMP-0002',\n",
    "          'first_name': 'Tom',\n",
    "          'last_name': 'Smith',\n",
    "          'full_name': 'Tom Smith',\n",
    "          'company': 'Company 2',\n",
    "          'nationality': 'United States'\n",
    "      },\n",
    "      {\n",
    "          'name': 'EMP-0003',\n",
    "          'first_name': 'Andrew',\n",
    "          'last_name': 'Sebastian',\n",
    "          'full_name': 'Andrew Sebastian',\n",
    "          'company': 'Company 3',\n",
    "          'nationality': 'United States'\n",
    "      },\n",
    "      {\n",
    "          'name': 'EMP-0005',\n",
    "          'first_name': 'Ying Han',\n",
    "          'last_name': 'Tan',\n",
    "          'full_name': 'Ying Han Tan',\n",
    "          'company': 'Company 1',\n",
    "          'nationality': 'Australia'\n",
    "      },\n",
    "      {\n",
    "          'name': 'EMP-0015',\n",
    "          'first_name': 'Kenneth',\n",
    "          'last_name': 'Ng',\n",
    "          'full_name': 'Kenneth Ng',\n",
    "          'company': 'Company 3',\n",
    "          'nationality': 'United States'\n",
    "      },\n",
    "      {\n",
    "          'name': 'EMP-0018',\n",
    "          'first_name': 'Rubby',\n",
    "          'last_name': 'Lee',\n",
    "          'full_name': 'Rubby Lee',\n",
    "          'company': 'Company 2',\n",
    "          'nationality': 'Hong Kong'\n",
    "      },\n",
    "     {\n",
    "          'name': 'EMP-0017',\n",
    "          'first_name': 'Robert',\n",
    "          'last_name': 'White',\n",
    "          'full_name': 'Robert White',\n",
    "          'company': 'Company 1',\n",
    "          'nationality': 'United Kingdom'\n",
    "      }\n",
    "  ]\n",
    "\n"
   ]
  },
  {
   "cell_type": "markdown",
   "metadata": {},
   "source": [
    "Task 1 (Mendapatkan daftar perusahaan yang diurutkan berdasarkan nama secara terbalik)"
   ]
  },
  {
   "cell_type": "code",
   "execution_count": 9,
   "metadata": {},
   "outputs": [
    {
     "name": "stdout",
     "output_type": "stream",
     "text": [
      "{'name': 'Company 3'}\n",
      "{'name': 'Company 2'}\n",
      "{'name': 'Company 1'}\n"
     ]
    }
   ],
   "source": [
    "def print_company_sort():\n",
    "    company = sorted([{'name': company['name']} for company in company_detail_list], key=lambda x: x['name'], reverse=True)\n",
    "    for p in company:\n",
    "        print(p)\n",
    "        \n",
    "print_company_sort()\n"
   ]
  },
  {
   "cell_type": "markdown",
   "metadata": {},
   "source": [
    "Task 2 (Menampilkan domain, nama, dan negara dari setiap perusahaan)"
   ]
  },
  {
   "cell_type": "code",
   "execution_count": 10,
   "metadata": {},
   "outputs": [
    {
     "name": "stdout",
     "output_type": "stream",
     "text": [
      "Company 1: Retail (United States)\n",
      "Company 2: Technology (United Kingdom)\n",
      "Company 3: Healthcare (United States)\n"
     ]
    }
   ],
   "source": [
    "def print_company_sort():\n",
    "    for company in company_detail_list:\n",
    "        print(f\"{company['name']}: {company['domain']} ({company['country']})\")\n",
    "\n",
    "print_company_sort()\n"
   ]
  },
  {
   "cell_type": "markdown",
   "metadata": {},
   "source": [
    "Task 3 (Mendapatkan daftar karyawan berdasarkan domain perusahaan tempat mereka bekerja)"
   ]
  },
  {
   "cell_type": "code",
   "execution_count": 11,
   "metadata": {},
   "outputs": [
    {
     "name": "stdout",
     "output_type": "stream",
     "text": [
      "{\n",
      "    \"Retail\": [\n",
      "        \"John Doe\",\n",
      "        \"Ying Han Tan\",\n",
      "        \"Robert White\"\n",
      "    ],\n",
      "    \"Technology\": [\n",
      "        \"Tom Smith\",\n",
      "        \"Rubby Lee\"\n",
      "    ],\n",
      "    \"Healthcare\": [\n",
      "        \"Andrew Sebastian\",\n",
      "        \"Kenneth Ng\"\n",
      "    ]\n",
      "}\n"
     ]
    }
   ],
   "source": [
    "import json\n",
    "\n",
    "def employees_by_domain():\n",
    "    domain_employees = {}\n",
    "    for company in company_detail_list:\n",
    "        domain = company['domain']\n",
    "\n",
    "        domain_employees[domain] = [\n",
    "            employee['full_name']\n",
    "            for employee in employee_detail_list \n",
    "            if employee['company'] == company['name']\n",
    "        ]\n",
    "\n",
    "    return domain_employees\n",
    "print(json.dumps(employees_by_domain(), indent=4))\n"
   ]
  },
  {
   "cell_type": "markdown",
   "metadata": {},
   "source": [
    "Task 4 (Membuat fungsi yang mengembalikan daftar karyawan beserta negara perusahaan tempat mereka bekerja)"
   ]
  },
  {
   "cell_type": "code",
   "execution_count": 12,
   "metadata": {},
   "outputs": [
    {
     "name": "stdout",
     "output_type": "stream",
     "text": [
      "[\n",
      "    {\n",
      "        \"full_name\": \"John Doe\",\n",
      "        \"company\": \"Company 1\",\n",
      "        \"country\": \"United States\"\n",
      "    },\n",
      "    {\n",
      "        \"full_name\": \"Tom Smith\",\n",
      "        \"company\": \"Company 2\",\n",
      "        \"country\": \"United Kingdom\"\n",
      "    },\n",
      "    {\n",
      "        \"full_name\": \"Andrew Sebastian\",\n",
      "        \"company\": \"Company 3\",\n",
      "        \"country\": \"United States\"\n",
      "    },\n",
      "    {\n",
      "        \"full_name\": \"Ying Han Tan\",\n",
      "        \"company\": \"Company 1\",\n",
      "        \"country\": \"United States\"\n",
      "    },\n",
      "    {\n",
      "        \"full_name\": \"Kenneth Ng\",\n",
      "        \"company\": \"Company 3\",\n",
      "        \"country\": \"United States\"\n",
      "    },\n",
      "    {\n",
      "        \"full_name\": \"Rubby Lee\",\n",
      "        \"company\": \"Company 2\",\n",
      "        \"country\": \"United Kingdom\"\n",
      "    },\n",
      "    {\n",
      "        \"full_name\": \"Robert White\",\n",
      "        \"company\": \"Company 1\",\n",
      "        \"country\": \"United States\"\n",
      "    }\n",
      "]\n"
     ]
    }
   ],
   "source": [
    "import json\n",
    "\n",
    "def employees_with_company_country():\n",
    "    result = []\n",
    "    for employee in employee_detail_list:\n",
    "        \n",
    "        company_country = next(\n",
    "            (company['country'] for company in company_detail_list if company['name'] == employee['company']), \n",
    "            None\n",
    "        )\n",
    "        result.append({\n",
    "            \"full_name\": employee['full_name'],\n",
    "            \"company\": employee['company'],\n",
    "            \"country\": company_country\n",
    "        })\n",
    "    return result\n",
    "\n",
    "print(json.dumps(employees_with_company_country(), indent=4))\n"
   ]
  },
  {
   "cell_type": "markdown",
   "metadata": {},
   "source": [
    "Task 5 (Membuat fungsi yang mengembalikan perusahaan dengan jumlah karyawan berdasarkan kebangsaan yang bekerja di perusahaan)"
   ]
  },
  {
   "cell_type": "code",
   "execution_count": 13,
   "metadata": {},
   "outputs": [
    {
     "name": "stdout",
     "output_type": "stream",
     "text": [
      "[\n",
      "    {\n",
      "        \"company\": \"Company 1\",\n",
      "        \"employee_nationality\": {\n",
      "            \"Australia\": 2,\n",
      "            \"United Kingdom\": 1\n",
      "        }\n",
      "    },\n",
      "    {\n",
      "        \"company\": \"Company 2\",\n",
      "        \"employee_nationality\": {\n",
      "            \"United States\": 1,\n",
      "            \"Hong Kong\": 1\n",
      "        }\n",
      "    },\n",
      "    {\n",
      "        \"company\": \"Company 3\",\n",
      "        \"employee_nationality\": {\n",
      "            \"United States\": 2\n",
      "        }\n",
      "    }\n",
      "]\n"
     ]
    }
   ],
   "source": [
    "import json\n",
    "def company_employee_nationality_count():\n",
    "    result = []\n",
    "    for company in company_detail_list:\n",
    "        nationality_count = {}\n",
    "        \n",
    "        employees_in_company = [\n",
    "            employee for employee in employee_detail_list \n",
    "            if employee['company'] == company['name']\n",
    "        ]\n",
    "        for employee in employees_in_company:\n",
    "            nationality = employee['nationality']\n",
    "            if nationality in nationality_count:\n",
    "                nationality_count[nationality] += 1\n",
    "            else:\n",
    "                nationality_count[nationality] = 1\n",
    "        result.append({\n",
    "            \"company\": company['name'],\n",
    "            \"employee_nationality\": nationality_count\n",
    "        })\n",
    "    return result\n",
    "\n",
    "print(json.dumps(company_employee_nationality_count(), indent=4))"
   ]
  }
 ],
 "metadata": {
  "kernelspec": {
   "display_name": "Python 3",
   "language": "python",
   "name": "python3"
  },
  "language_info": {
   "codemirror_mode": {
    "name": "ipython",
    "version": 3
   },
   "file_extension": ".py",
   "mimetype": "text/x-python",
   "name": "python",
   "nbconvert_exporter": "python",
   "pygments_lexer": "ipython3",
   "version": "3.13.0"
  }
 },
 "nbformat": 4,
 "nbformat_minor": 2
}
